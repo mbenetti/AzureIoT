{
 "cells": [
  {
   "cell_type": "markdown",
   "metadata": {},
   "source": [
    "# First with the certificate and second without certificate"
   ]
  },
  {
   "cell_type": "code",
   "execution_count": 2,
   "metadata": {},
   "outputs": [
    {
     "name": "stdout",
     "output_type": "stream",
     "text": [
      "Requirement already satisfied: paho-mqtt in c:\\users\\mbene\\anaconda3\\lib\\site-packages (1.4.0)\n"
     ]
    }
   ],
   "source": [
    "!pip install paho-mqtt\n"
   ]
  },
  {
   "cell_type": "code",
   "execution_count": 5,
   "metadata": {},
   "outputs": [
    {
     "name": "stdout",
     "output_type": "stream",
     "text": [
      "Collecting git\n",
      "  Downloading https://files.pythonhosted.org/packages/18/bb/165deb8ef4b1579a12fb0c1db31e2a39c596248557cec9edbe3505c416cb/git-1.2.2.tar.gz\n",
      "Requirement already satisfied: chardet<3.1.0,>=3.0.2 in c:\\users\\mbene\\anaconda3\\lib\\site-packages (from git) (3.0.3)\n",
      "Requirement already satisfied: idna<2.9,>=2.5 in c:\\users\\mbene\\anaconda3\\lib\\site-packages (from git) (2.5)\n",
      "Collecting pandoc-min>=1.0.3 (from git)\n",
      "  Downloading https://files.pythonhosted.org/packages/6f/84/ae5cc38473c74b0d721253552a62a295fde68c55ddf79447220d7514fcb0/pandoc-min-1.0.9.tar.gz (487kB)\n",
      "Requirement already satisfied: urllib3<1.25,>=1.21.1 in c:\\users\\mbene\\anaconda3\\lib\\site-packages (from git) (1.24.1)\n",
      "Requirement already satisfied: certifi>=2017.4.17 in c:\\users\\mbene\\anaconda3\\lib\\site-packages (from git) (2018.11.29)\n",
      "Requirement already satisfied: ply in c:\\users\\mbene\\anaconda3\\lib\\site-packages (from pandoc-min>=1.0.3->git) (3.10)\n",
      "Collecting netifaces (from pandoc-min>=1.0.3->git)\n",
      "  Downloading https://files.pythonhosted.org/packages/12/20/8dffb210fa8e2c4469dd29120f07bd13f65f83bdde32ab1772f55f441b12/netifaces-0.10.9-cp36-cp36m-win_amd64.whl\n",
      "Building wheels for collected packages: git, pandoc-min\n",
      "  Building wheel for git (setup.py): started\n",
      "  Building wheel for git (setup.py): finished with status 'done'\n",
      "  Stored in directory: C:\\Users\\mbene\\AppData\\Local\\pip\\Cache\\wheels\\0b\\01\\4a\\db084059db9f4065752816b5b3b1ba20d8a17a1781432d88ca\n",
      "  Building wheel for pandoc-min (setup.py): started\n",
      "  Building wheel for pandoc-min (setup.py): finished with status 'done'\n",
      "  Stored in directory: C:\\Users\\mbene\\AppData\\Local\\pip\\Cache\\wheels\\da\\5f\\e1\\e059cb94fcd9d85127f5bd5d351e4f5627291845c150e65bf6\n",
      "Successfully built git pandoc-min\n",
      "Installing collected packages: netifaces, pandoc-min, git\n",
      "Successfully installed git-1.2.2 netifaces-0.10.9 pandoc-min-1.0.9\n"
     ]
    }
   ],
   "source": [
    "!pip install git"
   ]
  },
  {
   "cell_type": "code",
   "execution_count": 8,
   "metadata": {},
   "outputs": [
    {
     "name": "stderr",
     "output_type": "stream",
     "text": [
      "Cloning into 'iot-hub-python-raspberrypi-client-app'...\n"
     ]
    }
   ],
   "source": [
    "!git clone https://github.com/Azure-Samples/iot-hub-python-raspberrypi-client-app.git"
   ]
  },
  {
   "cell_type": "code",
   "execution_count": 10,
   "metadata": {},
   "outputs": [
    {
     "ename": "SyntaxError",
     "evalue": "invalid syntax (<ipython-input-10-3b8662707c13>, line 1)",
     "output_type": "error",
     "traceback": [
      "\u001b[1;36m  File \u001b[1;32m\"<ipython-input-10-3b8662707c13>\"\u001b[1;36m, line \u001b[1;32m1\u001b[0m\n\u001b[1;33m    ./setup.sh\u001b[0m\n\u001b[1;37m    ^\u001b[0m\n\u001b[1;31mSyntaxError\u001b[0m\u001b[1;31m:\u001b[0m invalid syntax\n"
     ]
    }
   ],
   "source": [
    "setup.sh"
   ]
  },
  {
   "cell_type": "code",
   "execution_count": 23,
   "metadata": {
    "collapsed": true
   },
   "outputs": [
    {
     "ename": "SyntaxError",
     "evalue": "(unicode error) 'unicodeescape' codec can't decode bytes in position 2-3: truncated \\UXXXXXXXX escape (<ipython-input-23-defaf31bd05b>, line 4)",
     "output_type": "error",
     "traceback": [
      "\u001b[1;36m  File \u001b[1;32m\"<ipython-input-23-defaf31bd05b>\"\u001b[1;36m, line \u001b[1;32m4\u001b[0m\n\u001b[1;33m    path_to_root_cert = \"C:\\Users\\mbene\\Documents\\Azure Iot\\baltimore.cer\"\u001b[0m\n\u001b[1;37m                       ^\u001b[0m\n\u001b[1;31mSyntaxError\u001b[0m\u001b[1;31m:\u001b[0m (unicode error) 'unicodeescape' codec can't decode bytes in position 2-3: truncated \\UXXXXXXXX escape\n"
     ]
    }
   ],
   "source": [
    "from paho.mqtt import client as mqtt\n",
    "import ssl\n",
    "\n",
    "path_to_root_cert = \"C:\\Users\\mbene\\Documents\\Azure Iot\\baltimore.cer\"\n",
    "device_id = \"PythonDevice\"\n",
    "sas_token = \"43Eg9onCO7UWiouyF0X4ay87Tf7NhpCDyDa55MSUMTk=\"\n",
    "iot_hub_name = \"PruebaIT\"\n",
    "\n",
    "def on_connect(client, userdata, flags, rc):\n",
    "  print (\"Device connected with result code: \" + str(rc))\n",
    "def on_disconnect(client, userdata, rc):\n",
    "  print (\"Device disconnected with result code: \" + str(rc))\n",
    "def on_publish(client, userdata, mid):\n",
    "  print (\"Device sent message\")\n",
    "\n",
    "client = mqtt.Client(client_id=device_id, protocol=mqtt.MQTTv311)\n",
    "\n",
    "client.on_connect = on_connect\n",
    "client.on_disconnect = on_disconnect\n",
    "client.on_publish = on_publish\n",
    "\n",
    "client.username_pw_set(username=iot_hub_name+\".azure-devices.net/\" + device_id, password=sas_token)\n",
    "\n",
    "client.tls_set(ca_certs=path_to_root_cert, certfile=None, keyfile=None, cert_reqs=ssl.CERT_REQUIRED, tls_version=ssl.PROTOCOL_TLSv1, ciphers=None)\n",
    "client.tls_insecure_set(False)\n",
    "\n",
    "\n",
    "Python \n",
    "\n",
    "client.connect(iot_hub_name+\".azure-devices.net\", port=8883)\n",
    "\n",
    "client.publish(\"devices/\" + device_id + \"/messages/events/\", \"{id=123}\", qos=1)\n",
    "client.loop_forever()\n"
   ]
  },
  {
   "cell_type": "code",
   "execution_count": 22,
   "metadata": {
    "collapsed": true
   },
   "outputs": [
    {
     "name": "stdout",
     "output_type": "stream",
     "text": [
      "Requirement already satisfied: azure-iothub-device-client in c:\\users\\mbene\\anaconda3\\lib\\site-packages (1.4.6)\n"
     ]
    }
   ],
   "source": [
    "!pip install azure-iothub-device-client"
   ]
  },
  {
   "cell_type": "markdown",
   "metadata": {},
   "source": [
    "### Only with the connection string"
   ]
  },
  {
   "cell_type": "code",
   "execution_count": 20,
   "metadata": {},
   "outputs": [
    {
     "name": "stdout",
     "output_type": "stream",
     "text": [
      "IoT Hub Quickstart #2 - Simulated device\n",
      "Press Ctrl-C to exit\n",
      "IoT Hub device sending periodic messages, press Ctrl-C to exit\n",
      "Sending message: {\"temperature\": 26.87,\"humidity\": 60.07}\n",
      "IoT Hub responded to message with status: OK\n",
      "Sending message: {\"temperature\": 24.14,\"humidity\": 60.24}\n",
      "IoT Hub responded to message with status: OK\n",
      "Sending message: {\"temperature\": 21.97,\"humidity\": 74.49}\n",
      "IoT Hub responded to message with status: OK\n",
      "Sending message: {\"temperature\": 24.12,\"humidity\": 77.24}\n",
      "IoT Hub responded to message with status: OK\n",
      "Sending message: {\"temperature\": 28.85,\"humidity\": 69.13}\n",
      "IoT Hub responded to message with status: OK\n",
      "Sending message: {\"temperature\": 30.79,\"humidity\": 67.15}\n",
      "IoT Hub responded to message with status: OK\n",
      "Sending message: {\"temperature\": 25.81,\"humidity\": 80.00}\n",
      "IoT Hub responded to message with status: OK\n",
      "Sending message: {\"temperature\": 33.97,\"humidity\": 72.50}\n",
      "IoT Hub responded to message with status: OK\n",
      "Sending message: {\"temperature\": 23.64,\"humidity\": 75.35}\n",
      "IoT Hub responded to message with status: OK\n",
      "Sending message: {\"temperature\": 27.72,\"humidity\": 73.24}\n",
      "IoT Hub responded to message with status: OK\n",
      "Sending message: {\"temperature\": 31.21,\"humidity\": 78.09}\n",
      "IoT Hub responded to message with status: OK\n",
      "Sending message: {\"temperature\": 24.95,\"humidity\": 72.13}\n",
      "IoT Hub responded to message with status: OK\n",
      "Sending message: {\"temperature\": 20.38,\"humidity\": 77.82}\n",
      "IoT Hub responded to message with status: OK\n",
      "Sending message: {\"temperature\": 22.92,\"humidity\": 65.61}\n",
      "IoT Hub responded to message with status: OK\n",
      "Sending message: {\"temperature\": 30.28,\"humidity\": 73.28}\n",
      "IoT Hub responded to message with status: OK\n",
      "Sending message: {\"temperature\": 30.61,\"humidity\": 68.25}\n",
      "IoT Hub responded to message with status: OK\n",
      "Sending message: {\"temperature\": 34.17,\"humidity\": 61.54}\n",
      "IoT Hub responded to message with status: OK\n",
      "Sending message: {\"temperature\": 21.78,\"humidity\": 72.04}\n",
      "IoT Hub responded to message with status: OK\n",
      "Sending message: {\"temperature\": 32.54,\"humidity\": 61.51}\n",
      "IoT Hub responded to message with status: OK\n",
      "Sending message: {\"temperature\": 26.05,\"humidity\": 61.18}\n",
      "IoT Hub responded to message with status: OK\n",
      "Sending message: {\"temperature\": 20.71,\"humidity\": 72.20}\n",
      "IoT Hub responded to message with status: OK\n",
      "Sending message: {\"temperature\": 33.21,\"humidity\": 75.56}\n",
      "IoT Hub responded to message with status: OK\n",
      "Sending message: {\"temperature\": 20.31,\"humidity\": 60.61}\n",
      "IoT Hub responded to message with status: OK\n",
      "Sending message: {\"temperature\": 21.15,\"humidity\": 71.04}\n",
      "IoT Hub responded to message with status: OK\n",
      "Sending message: {\"temperature\": 21.96,\"humidity\": 79.81}\n",
      "IoT Hub responded to message with status: OK\n",
      "Sending message: {\"temperature\": 21.85,\"humidity\": 65.60}\n",
      "IoT Hub responded to message with status: OK\n",
      "IoTHubClient sample stopped\n"
     ]
    }
   ],
   "source": [
    "# Copyright (c) Microsoft. All rights reserved.\n",
    "# Licensed under the MIT license. See LICENSE file in the project root for full license information.\n",
    "\n",
    "import random\n",
    "import time\n",
    "import sys\n",
    "\n",
    "# Using the Python Device SDK for IoT Hub:\n",
    "#   https://github.com/Azure/azure-iot-sdk-python\n",
    "# The sample connects to a device-specific MQTT endpoint on your IoT Hub.\n",
    "import iothub_client\n",
    "# pylint: disable=E0611\n",
    "from iothub_client import IoTHubClient, IoTHubClientError, IoTHubTransportProvider, IoTHubClientResult\n",
    "from iothub_client import IoTHubMessage, IoTHubMessageDispositionResult, IoTHubError, DeviceMethodReturnValue\n",
    "\n",
    "# The device connection string to authenticate the device with your IoT hub.\n",
    "# Using the Azure CLI:\n",
    "# az iot hub device-identity show-connection-string --hub-name {YourIoTHubName} --device-id MyNodeDevice --output table\n",
    "CONNECTION_STRING = \"HostName=PruebaIT.azure-devices.net;DeviceId=PythonDevice;SharedAccessKey=43Eg9onCO7UWiouyF0X4ay87Tf7NhpCDyDa55MSUMTk=\"\n",
    "\n",
    "# Using the MQTT protocol.\n",
    "PROTOCOL = IoTHubTransportProvider.MQTT\n",
    "MESSAGE_TIMEOUT = 10000\n",
    "\n",
    "# Define the JSON message to send to IoT Hub.\n",
    "TEMPERATURE = 20.0\n",
    "HUMIDITY = 60\n",
    "MSG_TXT = \"{\\\"temperature\\\": %.2f,\\\"humidity\\\": %.2f}\"\n",
    "\n",
    "INTERVAL = 1\n",
    "\n",
    "def send_confirmation_callback(message, result, user_context):\n",
    "    print ( \"IoT Hub responded to message with status: %s\" % (result) )\n",
    "\n",
    "def iothub_client_init():\n",
    "    # Create an IoT Hub client\n",
    "    client = IoTHubClient(CONNECTION_STRING, PROTOCOL)\n",
    "    return client\n",
    "\n",
    "# Handle direct method calls from IoT Hub\n",
    "def device_method_callback(method_name, payload, user_context):\n",
    "    global INTERVAL\n",
    "    print ( \"\\nMethod callback called with:\\nmethodName = %s\\npayload = %s\" % (method_name, payload) )\n",
    "    device_method_return_value = DeviceMethodReturnValue()\n",
    "    if method_name == \"SetTelemetryInterval\":\n",
    "        try:\n",
    "            INTERVAL = int(payload)\n",
    "            # Build and send the acknowledgment.\n",
    "            device_method_return_value.response = \"{ \\\"Response\\\": \\\"Executed direct method %s\\\" }\" % method_name\n",
    "            device_method_return_value.status = 200\n",
    "        except ValueError:\n",
    "            # Build and send an error response.\n",
    "            device_method_return_value.response = \"{ \\\"Response\\\": \\\"Invalid parameter\\\" }\"\n",
    "            device_method_return_value.status = 400\n",
    "    else:\n",
    "        # Build and send an error response.\n",
    "        device_method_return_value.response = \"{ \\\"Response\\\": \\\"Direct method not defined: %s\\\" }\" % method_name\n",
    "        device_method_return_value.status = 404\n",
    "    return device_method_return_value\n",
    "\n",
    "def iothub_client_telemetry_sample_run():\n",
    "\n",
    "    try:\n",
    "        client = iothub_client_init()\n",
    "        print ( \"IoT Hub device sending periodic messages, press Ctrl-C to exit\" )\n",
    "\n",
    "        # Set up the callback method for direct method calls from the hub.\n",
    "        client.set_device_method_callback(\n",
    "            device_method_callback, None)\n",
    "\n",
    "        while True:\n",
    "            # Build the message with simulated telemetry values.\n",
    "            temperature = TEMPERATURE + (random.random() * 15)\n",
    "            humidity = HUMIDITY + (random.random() * 20)\n",
    "            msg_txt_formatted = MSG_TXT % (temperature, humidity)\n",
    "            message = IoTHubMessage(msg_txt_formatted)\n",
    "\n",
    "            # Add a custom application property to the message.\n",
    "            # An IoT hub can filter on these properties without access to the message body.\n",
    "            prop_map = message.properties()\n",
    "            if temperature > 30:\n",
    "              prop_map.add(\"temperatureAlert\", \"true\")\n",
    "            else:\n",
    "              prop_map.add(\"temperatureAlert\", \"false\")\n",
    "\n",
    "            # Send the message.\n",
    "            print( \"Sending message: %s\" % message.get_string() )\n",
    "            client.send_event_async(message, send_confirmation_callback, None)\n",
    "            time.sleep(INTERVAL)\n",
    "\n",
    "    except IoTHubError as iothub_error:\n",
    "        print ( \"Unexpected error %s from IoTHub\" % iothub_error )\n",
    "        return\n",
    "    except KeyboardInterrupt:\n",
    "        print ( \"IoTHubClient sample stopped\" )\n",
    "\n",
    "if __name__ == '__main__':\n",
    "    print ( \"IoT Hub Quickstart #2 - Simulated device\" )\n",
    "    print ( \"Press Ctrl-C to exit\" )\n",
    "    iothub_client_telemetry_sample_run()"
   ]
  },
  {
   "cell_type": "code",
   "execution_count": 21,
   "metadata": {},
   "outputs": [
    {
     "name": "stdout",
     "output_type": "stream",
     "text": [
      "IoT Hub Quickstart #1 - Simulated device\n",
      "Press Ctrl-C to exit\n",
      "IoT Hub device sending periodic messages, press Ctrl-C to exit\n",
      "Sending message: {\"temperature\": 20.14,\"humidity\": 78.93}\n",
      "IoT Hub responded to message with status: OK\n",
      "Sending message: {\"temperature\": 22.07,\"humidity\": 60.35}\n",
      "IoT Hub responded to message with status: OK\n",
      "Sending message: {\"temperature\": 23.38,\"humidity\": 65.93}\n",
      "IoT Hub responded to message with status: OK\n",
      "Sending message: {\"temperature\": 22.80,\"humidity\": 61.17}\n",
      "IoT Hub responded to message with status: OK\n",
      "Sending message: {\"temperature\": 27.27,\"humidity\": 76.60}\n",
      "IoT Hub responded to message with status: OK\n",
      "Sending message: {\"temperature\": 31.95,\"humidity\": 61.44}\n",
      "IoT Hub responded to message with status: OK\n",
      "Sending message: {\"temperature\": 29.55,\"humidity\": 73.40}\n",
      "IoT Hub responded to message with status: OK\n",
      "Sending message: {\"temperature\": 29.37,\"humidity\": 66.39}\n",
      "IoT Hub responded to message with status: OK\n",
      "Sending message: {\"temperature\": 33.72,\"humidity\": 71.17}\n",
      "IoT Hub responded to message with status: OK\n",
      "Sending message: {\"temperature\": 29.34,\"humidity\": 71.51}\n",
      "IoT Hub responded to message with status: OK\n",
      "Sending message: {\"temperature\": 29.21,\"humidity\": 62.32}\n",
      "IoT Hub responded to message with status: OK\n",
      "Sending message: {\"temperature\": 28.64,\"humidity\": 78.90}\n",
      "IoT Hub responded to message with status: OK\n",
      "Sending message: {\"temperature\": 26.26,\"humidity\": 63.18}\n",
      "IoT Hub responded to message with status: OK\n",
      "Sending message: {\"temperature\": 20.46,\"humidity\": 76.56}\n",
      "IoT Hub responded to message with status: OK\n",
      "Sending message: {\"temperature\": 33.36,\"humidity\": 66.78}\n",
      "IoT Hub responded to message with status: OK\n",
      "Sending message: {\"temperature\": 27.91,\"humidity\": 68.56}\n",
      "IoT Hub responded to message with status: OK\n",
      "Sending message: {\"temperature\": 30.90,\"humidity\": 63.57}\n",
      "IoT Hub responded to message with status: OK\n",
      "Sending message: {\"temperature\": 21.62,\"humidity\": 61.48}\n",
      "IoT Hub responded to message with status: OK\n",
      "Sending message: {\"temperature\": 20.07,\"humidity\": 62.74}\n",
      "IoT Hub responded to message with status: OK\n",
      "Sending message: {\"temperature\": 29.51,\"humidity\": 60.96}\n",
      "IoT Hub responded to message with status: OK\n",
      "Sending message: {\"temperature\": 27.73,\"humidity\": 76.92}\n",
      "IoT Hub responded to message with status: OK\n",
      "Sending message: {\"temperature\": 20.02,\"humidity\": 79.35}\n",
      "IoT Hub responded to message with status: OK\n",
      "Sending message: {\"temperature\": 34.29,\"humidity\": 77.38}\n",
      "IoT Hub responded to message with status: OK\n",
      "Sending message: {\"temperature\": 22.40,\"humidity\": 73.70}\n",
      "IoT Hub responded to message with status: OK\n",
      "Sending message: {\"temperature\": 26.12,\"humidity\": 73.46}\n",
      "IoT Hub responded to message with status: OK\n",
      "IoTHubClient sample stopped\n"
     ]
    }
   ],
   "source": [
    "# Copyright (c) Microsoft. All rights reserved.\n",
    "# Licensed under the MIT license. See LICENSE file in the project root for full license information.\n",
    "\n",
    "import random\n",
    "import time\n",
    "import sys\n",
    "\n",
    "# Using the Python Device SDK for IoT Hub:\n",
    "#   https://github.com/Azure/azure-iot-sdk-python\n",
    "# The sample connects to a device-specific MQTT endpoint on your IoT Hub.\n",
    "import iothub_client\n",
    "# pylint: disable=E0611\n",
    "from iothub_client import IoTHubClient, IoTHubClientError, IoTHubTransportProvider, IoTHubClientResult\n",
    "from iothub_client import IoTHubMessage, IoTHubMessageDispositionResult, IoTHubError, DeviceMethodReturnValue\n",
    "\n",
    "# The device connection string to authenticate the device with your IoT hub.\n",
    "# Using the Azure CLI:\n",
    "# az iot hub device-identity show-connection-string --hub-name {YourIoTHubName} --device-id MyNodeDevice --output table\n",
    "CONNECTION_STRING = \"HostName=PruebaIT.azure-devices.net;DeviceId=PythonDevice;SharedAccessKey=43Eg9onCO7UWiouyF0X4ay87Tf7NhpCDyDa55MSUMTk=\"\n",
    "\n",
    "# Using the MQTT protocol.\n",
    "PROTOCOL = IoTHubTransportProvider.MQTT\n",
    "MESSAGE_TIMEOUT = 10000\n",
    "\n",
    "# Define the JSON message to send to IoT Hub.\n",
    "TEMPERATURE = 20.0\n",
    "HUMIDITY = 60\n",
    "MSG_TXT = \"{\\\"temperature\\\": %.2f,\\\"humidity\\\": %.2f}\"\n",
    "\n",
    "def send_confirmation_callback(message, result, user_context):\n",
    "    print ( \"IoT Hub responded to message with status: %s\" % (result) )\n",
    "\n",
    "def iothub_client_init():\n",
    "    # Create an IoT Hub client\n",
    "    client = IoTHubClient(CONNECTION_STRING, PROTOCOL)\n",
    "    return client\n",
    "\n",
    "def iothub_client_telemetry_sample_run():\n",
    "\n",
    "    try:\n",
    "        client = iothub_client_init()\n",
    "        print ( \"IoT Hub device sending periodic messages, press Ctrl-C to exit\" )\n",
    "\n",
    "        while True:\n",
    "            # Build the message with simulated telemetry values.\n",
    "            temperature = TEMPERATURE + (random.random() * 15)\n",
    "            humidity = HUMIDITY + (random.random() * 20)\n",
    "            msg_txt_formatted = MSG_TXT % (temperature, humidity)\n",
    "            message = IoTHubMessage(msg_txt_formatted)\n",
    "\n",
    "            # Add a custom application property to the message.\n",
    "            # An IoT hub can filter on these properties without access to the message body.\n",
    "            prop_map = message.properties()\n",
    "            if temperature > 30:\n",
    "              prop_map.add(\"temperatureAlert\", \"true\")\n",
    "            else:\n",
    "              prop_map.add(\"temperatureAlert\", \"false\")\n",
    "\n",
    "            # Send the message.\n",
    "            print( \"Sending message: %s\" % message.get_string() )\n",
    "            client.send_event_async(message, send_confirmation_callback, None)\n",
    "            time.sleep(1)\n",
    "\n",
    "    except IoTHubError as iothub_error:\n",
    "        print ( \"Unexpected error %s from IoTHub\" % iothub_error )\n",
    "        return\n",
    "    except KeyboardInterrupt:\n",
    "        print ( \"IoTHubClient sample stopped\" )\n",
    "\n",
    "if __name__ == '__main__':\n",
    "    print ( \"IoT Hub Quickstart #1 - Simulated device\" )\n",
    "    print ( \"Press Ctrl-C to exit\" )\n",
    "    iothub_client_telemetry_sample_run()"
   ]
  },
  {
   "cell_type": "markdown",
   "metadata": {},
   "source": [
    "## Device for pruevaanalytics"
   ]
  },
  {
   "cell_type": "code",
   "execution_count": null,
   "metadata": {},
   "outputs": [],
   "source": []
  }
 ],
 "metadata": {
  "kernelspec": {
   "display_name": "Python 3",
   "language": "python",
   "name": "python3"
  },
  "language_info": {
   "codemirror_mode": {
    "name": "ipython",
    "version": 3
   },
   "file_extension": ".py",
   "mimetype": "text/x-python",
   "name": "python",
   "nbconvert_exporter": "python",
   "pygments_lexer": "ipython3",
   "version": "3.7.2"
  }
 },
 "nbformat": 4,
 "nbformat_minor": 2
}
